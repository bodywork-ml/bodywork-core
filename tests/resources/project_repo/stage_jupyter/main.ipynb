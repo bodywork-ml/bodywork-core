{
 "cells": [
  {
   "cell_type": "markdown",
   "id": "94653921-5ff4-4086-9072-7317cf87212a",
   "metadata": {},
   "source": [
    "# This Notebook Tests that Jupyter Notebook Support"
   ]
  },
  {
   "cell_type": "code",
   "execution_count": null,
   "id": "319d29a4-ce2f-4061-a70e-19784fa3e7d1",
   "metadata": {},
   "outputs": [],
   "source": [
    "with open(\"../../bodywork_project_output/stage_jupyter_test_file.txt\", \"w\") as f:\n",
    "    f.write(\"Hello from a Jupyter notebook stage\\n\")"
   ]
  }
 ],
 "metadata": {
  "kernelspec": {
   "display_name": "Python 3 (ipykernel)",
   "language": "python",
   "name": "python3"
  },
  "language_info": {
   "codemirror_mode": {
    "name": "ipython",
    "version": 3
   },
   "file_extension": ".py",
   "mimetype": "text/x-python",
   "name": "python",
   "nbconvert_exporter": "python",
   "pygments_lexer": "ipython3",
   "version": "3.9.0"
  }
 },
 "nbformat": 4,
 "nbformat_minor": 5
}
